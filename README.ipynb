{
 "cells": [
  {
   "cell_type": "markdown",
   "metadata": {},
   "source": [
    "# Project Title\n",
    "\n",
    "project description goes here\n",
    "\n",
    "## Getting Started\n",
    "\n",
    "instructions on getting started\n",
    "\n",
    "### Prerequisites\n",
    "\n",
    "software dependencies and how to install them\n",
    "\n",
    "```\n",
    "Give examples in code\n",
    "sudo apt-get install zsh\n",
    "```\n",
    "\n",
    "### Installing\n",
    "\n",
    "step by step guide to install your project\n",
    "\n",
    "Step 1 in English\n",
    "\n",
    "```\n",
    "step 1 example\n",
    "```\n",
    "\n",
    "repeat as necessary...\n",
    "\n",
    "## License\n",
    "\n",
    "This project is licensed under the MIT License - see the [LICENSE](LICENSE) file for details\n",
    "\n",
    "## Acknowledgments\n",
    "\n",
    "* Hat tip to anyone who's code was used, in this case, [this gist from PurpleBooth](https://gist.github.com/PurpleBooth/109311bb0361f32d87a2)\n",
    "* Inspiration - here I just wanted to see how GitHub automatically renders README files in different formats (e.g. .md, .rst, .ipynb, etc.)\n",
    "* etc.\n"
   ]
  }
 ],
 "metadata": {
  "kernelspec": {
   "display_name": "Python 3",
   "language": "python",
   "name": "python3"
  },
  "language_info": {
   "codemirror_mode": {
    "name": "ipython",
    "version": 3
   },
   "file_extension": ".py",
   "mimetype": "text/x-python",
   "name": "python",
   "nbconvert_exporter": "python",
   "pygments_lexer": "ipython3",
   "version": "3.6.2"
  }
 },
 "nbformat": 4,
 "nbformat_minor": 2
}
